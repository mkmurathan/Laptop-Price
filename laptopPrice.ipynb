{
 "cells": [
  {
   "cell_type": "code",
   "execution_count": null,
   "metadata": {},
   "outputs": [],
   "source": [
    "import pandas as pd\n",
    "import numpy as np\n",
    "import matplotlib.pyplot as plt\n",
    "import seaborn as sns\n",
    "from sklearn.model_selection import train_test_split\n",
    "from sklearn.preprocessing import OneHotEncoder, StandardScaler\n",
    "from sklearn.linear_model import LinearRegression\n",
    "from sklearn.metrics import mean_squared_error, r2_score\n",
    "from sklearn.model_selection import GridSearchCV\n",
    "from sklearn.ensemble import RandomForestRegressor\n",
    "from sklearn.model_selection import train_test_split\n",
    "from sklearn.metrics import r2_score, mean_squared_error\n",
    "from sklearn.model_selection import learning_curve\n",
    "import xgboost as xgb\n",
    "import lightgbm as lgb\n",
    "\n"
   ]
  },
  {
   "cell_type": "code",
   "execution_count": null,
   "metadata": {},
   "outputs": [],
   "source": [
    "df = pd.read_csv('laptopprices.csv')"
   ]
  },
  {
   "cell_type": "code",
   "execution_count": null,
   "metadata": {},
   "outputs": [],
   "source": [
    "df.head(10)"
   ]
  },
  {
   "cell_type": "code",
   "execution_count": null,
   "metadata": {},
   "outputs": [],
   "source": [
    "df.dtypes"
   ]
  },
  {
   "cell_type": "code",
   "execution_count": null,
   "metadata": {},
   "outputs": [],
   "source": [
    "df.isnull().sum()"
   ]
  },
  {
   "cell_type": "code",
   "execution_count": null,
   "metadata": {},
   "outputs": [],
   "source": [
    "df.columns"
   ]
  },
  {
   "cell_type": "code",
   "execution_count": null,
   "metadata": {},
   "outputs": [],
   "source": [
    "plt.Figure(figsize=(12,6))\n",
    "sns.histplot(df['Price ($)'], bins=50, kde = True, color= 'blue')\n",
    "\n",
    "plt.title('Price Disstribution')\n",
    "plt.xlabel('Price ($)')\n",
    "plt.ylabel('Frequency')\n",
    "plt.show()"
   ]
  },
  {
   "cell_type": "code",
   "execution_count": null,
   "metadata": {},
   "outputs": [],
   "source": [
    "plt.figure(figsize=(10, 8))\n",
    "numerical_features = ['RAM (GB)', 'Screen Size (inch)', 'Battery Life (hours)', 'Weight (kg)', 'Price ($)']\n",
    "corr_matrix = df[numerical_features].corr()\n",
    "sns.heatmap(corr_matrix, annot=True, cmap='coolwarm', fmt='.2f')\n",
    "plt.title('Correlation Heatmap')\n",
    "plt.show()"
   ]
  },
  {
   "cell_type": "code",
   "execution_count": null,
   "metadata": {},
   "outputs": [],
   "source": [
    "numerical_features = ['RAM (GB)', 'Screen Size (inch)', 'Battery Life (hours)', 'Weight (kg)', 'Price ($)']\n",
    "corr_matrix = df[numerical_features].corr()\n",
    "print(corr_matrix)"
   ]
  },
  {
   "cell_type": "code",
   "execution_count": null,
   "metadata": {},
   "outputs": [],
   "source": [
    "plt.Figure(figsize=(14,6))\n",
    "sns.boxenplot(x='Brand', y='Price ($)', data=df)\n",
    "plt.xticks(rotation=45)\n",
    "plt.title('Price Distribution by Brand')\n",
    "plt.show()"
   ]
  },
  {
   "cell_type": "code",
   "execution_count": null,
   "metadata": {},
   "outputs": [],
   "source": [
    "plt.figure(figsize=(12, 6))\n",
    "sns.scatterplot(x='Screen Size (inch)', y='Price ($)', hue='GPU', data=df, palette='tab10', alpha=0.7)\n",
    "plt.title('Screen Size vs Price by GPU')\n",
    "plt.xlabel('Screen Size (inch)')\n",
    "plt.ylabel('Price ($)')\n",
    "plt.legend(bbox_to_anchor=(1.05, 1), loc='upper left')\n",
    "plt.show()"
   ]
  },
  {
   "cell_type": "code",
   "execution_count": null,
   "metadata": {},
   "outputs": [],
   "source": [
    "plt.figure(figsize=(14, 6))\n",
    "df.groupby('Processor')['Price ($)'].mean().plot(kind='bar', color='orange')\n",
    "plt.title('Average Price by Processor')\n",
    "plt.xlabel('Processor')\n",
    "plt.ylabel('Average Price ($)')\n",
    "plt.xticks(rotation=45)\n",
    "plt.show()"
   ]
  },
  {
   "cell_type": "code",
   "execution_count": null,
   "metadata": {},
   "outputs": [],
   "source": [
    "plt.figure(figsize=(14, 6))\n",
    "df.groupby('Processor')['Price ($)'].min().plot(kind='bar', color='teal')\n",
    "plt.title('Minimum Price by Processor')\n",
    "plt.xlabel('Processor')\n",
    "plt.ylabel('Minimum Price ($)')\n",
    "plt.xticks(rotation=45)\n",
    "plt.show()"
   ]
  },
  {
   "cell_type": "code",
   "execution_count": null,
   "metadata": {},
   "outputs": [],
   "source": [
    "plt.figure(figsize=(14, 6))\n",
    "df.groupby('Processor')['Price ($)'].max().plot(kind='bar', color='red')\n",
    "plt.title('Maximum Price by Processor')\n",
    "plt.xlabel('Processor')\n",
    "plt.ylabel('Maximum Price ($)')\n",
    "plt.xticks(rotation=45)\n",
    "plt.show()"
   ]
  },
  {
   "cell_type": "code",
   "execution_count": null,
   "metadata": {},
   "outputs": [],
   "source": [
    "plt.figure(figsize=(14, 6))\n",
    "df.groupby('Battery Life (hours)')['Price ($)'].mean().plot(kind='line', color='blue', marker='o')\n",
    "plt.title('Average Price by Battery Life (hours)')\n",
    "plt.xlabel('Battery Life (hours)')\n",
    "plt.ylabel('Average Price ($)')\n",
    "plt.grid(True)\n",
    "plt.show()"
   ]
  },
  {
   "cell_type": "code",
   "execution_count": null,
   "metadata": {},
   "outputs": [],
   "source": [
    "plt.figure(figsize=(14, 6))\n",
    "sns.countplot(x='Operating System', data=df, palette='viridis')\n",
    "plt.title('Number of Laptops by Operating System')\n",
    "plt.xticks(rotation=45)\n",
    "plt.show()"
   ]
  },
  {
   "cell_type": "code",
   "execution_count": null,
   "metadata": {},
   "outputs": [],
   "source": [
    "categorical_features = ['Brand', 'Processor', 'Storage', 'GPU', 'Resolution', 'Operating System']\n",
    "numerical_features = ['RAM (GB)', 'Screen Size (inch)', 'Battery Life (hours)', 'Weight (kg)']\n",
    "\n",
    "encoder = OneHotEncoder(sparse=False, drop='first')\n",
    "categorical_Encoder = encoder.fit_transform(df[categorical_features])\n",
    "\n",
    "scaler = StandardScaler()\n",
    "numerical_scaled = scaler.fit_transform(df[numerical_features])\n",
    "\n",
    "\n",
    "x = np.hstack((numerical_scaled, categorical_Encoder))\n",
    "y = df['Price ($)'].values"
   ]
  },
  {
   "cell_type": "code",
   "execution_count": null,
   "metadata": {},
   "outputs": [],
   "source": [
    "x_train, x_test, y_train, y_test = train_test_split(x, y, test_size=0.2, random_state=42)"
   ]
  },
  {
   "cell_type": "code",
   "execution_count": null,
   "metadata": {},
   "outputs": [],
   "source": [
    "model = LinearRegression()\n",
    "model.fit(x_train, y_train)"
   ]
  },
  {
   "cell_type": "code",
   "execution_count": null,
   "metadata": {},
   "outputs": [],
   "source": [
    "y_pred = model.predict(x_test)\n",
    "mse = mean_squared_error(y_test, y_pred)\n",
    "r2 = r2_score(y_test, y_pred)\n",
    "\n",
    "print(f\"Mean Squared Error: {mse:.2f}\")\n",
    "print(f\"R-squared: {r2:.2f}\")"
   ]
  },
  {
   "cell_type": "code",
   "execution_count": null,
   "metadata": {},
   "outputs": [],
   "source": [
    "plt.figure(figsize=(10, 6))\n",
    "sns.scatterplot(x=y_test, y=y_pred, alpha=0.7, color='green')\n",
    "plt.plot([y.min(), y.max()], [y.min(), y.max()], color='red', linestyle='--')\n",
    "plt.xlabel('Actual Price ($)')\n",
    "plt.ylabel('Predicted Price ($)')\n",
    "plt.title('Actual vs Predicted Prices')\n",
    "plt.show()\n"
   ]
  },
  {
   "cell_type": "code",
   "execution_count": null,
   "metadata": {},
   "outputs": [],
   "source": [
    "param_grid = {\n",
    "    'n_estimators': [100, 200],\n",
    "    'max_depth': [None, 10, 20],\n",
    "    'min_samples_split': [2, 5]\n",
    "}\n",
    "\n",
    "\n",
    "\n",
    "model = RandomForestRegressor()\n",
    "grid_search = GridSearchCV(model, param_grid, cv=5, n_jobs=-1, scoring='r2')\n",
    "grid_search.fit(x_train, y_train)"
   ]
  },
  {
   "cell_type": "code",
   "execution_count": null,
   "metadata": {},
   "outputs": [],
   "source": [
    "print(\"En iyi parametreler:\", grid_search.best_params_)\n",
    "print(\"En iyi skor (R²):\", grid_search.best_score_)"
   ]
  },
  {
   "cell_type": "code",
   "execution_count": null,
   "metadata": {},
   "outputs": [],
   "source": [
    "results_df = pd.DataFrame(grid_search.cv_results_)\n",
    "results_df = results_df[['params', 'mean_test_score', 'std_test_score', 'rank_test_score']]\n",
    "results_df = results_df.sort_values(by='rank_test_score')\n",
    "print(results_df.head())"
   ]
  },
  {
   "cell_type": "code",
   "execution_count": null,
   "metadata": {},
   "outputs": [],
   "source": [
    "best_model = grid_search.best_estimator_\n",
    "y_pred = best_model.predict(x_test)\n",
    "r2 = r2_score(y_test, y_pred)\n",
    "print(\"Test R²:\", r2)"
   ]
  },
  {
   "cell_type": "code",
   "execution_count": null,
   "metadata": {},
   "outputs": [],
   "source": [
    "\n",
    "cv_scores = grid_search.cv_results_['mean_test_score']\n",
    "print(\"Cross-Validation Skorları:\", cv_scores)"
   ]
  },
  {
   "cell_type": "code",
   "execution_count": null,
   "metadata": {},
   "outputs": [],
   "source": [
    "# Düşük fiyatlı laptoplar (<1500$) için R²\n",
    "low_price_mask = (y_test < 1500)\n",
    "r2_low = r2_score(y_test[low_price_mask], y_pred[low_price_mask])\n",
    "\n",
    "# Yüksek fiyatlı laptoplar (>3500$) için R²\n",
    "high_price_mask = (y_test > 3500)\n",
    "r2_high = r2_score(y_test[high_price_mask], y_pred[high_price_mask])\n",
    "\n",
    "print(\"Düşük Fiyatlılar R²:\", r2_low)\n",
    "print(\"Yüksek Fiyatlılar R²:\", r2_high)"
   ]
  },
  {
   "cell_type": "code",
   "execution_count": null,
   "metadata": {},
   "outputs": [],
   "source": [
    "from sklearn.metrics import mean_squared_error\n",
    "\n",
    "mse = mean_squared_error(y_test, y_pred)\n",
    "rmse = np.sqrt(mse)\n",
    "print(\"Test MSE:\", mse)\n",
    "print(\"Test RMSE:\", rmse)"
   ]
  },
  {
   "cell_type": "code",
   "execution_count": null,
   "metadata": {},
   "outputs": [],
   "source": [
    "\n",
    "from sklearn.model_selection import cross_val_predict, KFold\n",
    "import numpy as np\n",
    "\n",
    "cv = KFold(n_splits=5, shuffle=True, random_state=42)  \n",
    "for fold, (train_idx, test_idx) in enumerate(cv.split(x_train)):\n",
    "    if fold == 4:  \n",
    "        low_price_count = np.sum(y_train[test_idx] < 1500)\n",
    "        high_price_count = np.sum(y_train[test_idx] > 3500)\n",
    "        print(f\"5. Fold - Düşük Fiyatlılar: {low_price_count}, Yüksek Fiyatlılar: {high_price_count}\")"
   ]
  },
  {
   "cell_type": "code",
   "execution_count": null,
   "metadata": {},
   "outputs": [],
   "source": [
    "sns.boxplot(x=df['Price ($)'])\n",
    "plt.show()"
   ]
  },
  {
   "cell_type": "code",
   "execution_count": null,
   "metadata": {},
   "outputs": [],
   "source": [
    "\n",
    "\n",
    "\n",
    "categorical_cols = ['Brand', 'Operating System', 'GPU', 'Processor', 'Storage', 'Resolution']\n",
    "\n",
    "# One-Hot Encoding \n",
    "df_encoded = pd.get_dummies(df, columns=categorical_cols, drop_first=True)\n",
    "\n",
    "\n",
    "X = df_encoded.drop('Price ($)', axis=1)\n",
    "y = df_encoded['Price ($)']\n",
    "\n",
    "\n",
    "X_train, X_test, y_train, y_test = train_test_split(X, y, test_size=0.2, random_state=42)\n"
   ]
  },
  {
   "cell_type": "code",
   "execution_count": null,
   "metadata": {},
   "outputs": [],
   "source": [
    "model_xgb = xgb.XGBRegressor(\n",
    "    objective='reg:squarederror',\n",
    "    n_estimators=200,\n",
    "    max_depth=5,\n",
    "    learning_rate=0.1,\n",
    "    subsample=0.8,\n",
    "    colsample_bytree=0.8,\n",
    "    gamma=0.1,\n",
    "    random_state=42\n",
    ")\n",
    "\n",
    "\n",
    "model_xgb.fit(X_train, y_train)\n",
    "\n",
    "\n",
    "y_pred_xgb = model_xgb.predict(X_test)\n",
    "\n",
    "\n",
    "r2_xgb = r2_score(y_test, y_pred_xgb)\n",
    "rmse_xgb = np.sqrt(mean_squared_error(y_test, y_pred_xgb))\n",
    "print(\"XGBoost Test R²:\", r2_xgb)\n",
    "print(\"XGBoost Test RMSE:\", rmse_xgb)\n"
   ]
  },
  {
   "cell_type": "code",
   "execution_count": null,
   "metadata": {},
   "outputs": [],
   "source": [
    "model_lgb = lgb.LGBMRegressor(\n",
    "    objective='regression',\n",
    "    num_leaves=31,\n",
    "    learning_rate=0.05,\n",
    "    n_estimators=200,\n",
    "    max_depth=-1,\n",
    "    subsample=0.8,\n",
    "    colsample_bytree=0.8,\n",
    "    reg_alpha=0.1,\n",
    "    reg_lambda=0.1,\n",
    "    random_state=42\n",
    ")\n",
    "\n",
    "\n",
    "model_lgb.fit(X_train, y_train)\n",
    "\n",
    "\n",
    "y_pred_lgb = model_lgb.predict(X_test)\n",
    "\n",
    "\n",
    "r2_lgb = r2_score(y_test, y_pred_lgb)\n",
    "rmse_lgb = np.sqrt(mean_squared_error(y_test, y_pred_lgb))\n",
    "print(\"LightGBM Test R²:\", r2_lgb)\n",
    "print(\"LightGBM Test RMSE:\", rmse_lgb)"
   ]
  },
  {
   "cell_type": "code",
   "execution_count": null,
   "metadata": {},
   "outputs": [],
   "source": [
    "\n",
    "y_pred_lgb = model_lgb.predict(X_test)\n",
    "\n",
    "\n",
    "plt.figure(figsize=(10, 6))\n",
    "sns.scatterplot(x=y_test, y=y_pred_lgb, alpha=0.7, color='blue', label='LightGBM Tahminleri')\n",
    "plt.plot([y.min(), y.max()], [y.min(), y.max()], color='red', linestyle='--', label='Mükemmel Tahmin')\n",
    "plt.xlabel('Gerçek Fiyat ($)')\n",
    "plt.ylabel('Tahmin Edilen Fiyat ($)')\n",
    "plt.title('LightGBM: Gerçek vs Tahmin Edilen Fiyatlar')\n",
    "plt.legend()\n",
    "plt.show()"
   ]
  },
  {
   "cell_type": "code",
   "execution_count": null,
   "metadata": {},
   "outputs": [],
   "source": [
    "\n",
    "y_pred_xgb = model_xgb.predict(X_test)\n",
    "\n",
    "\n",
    "plt.figure(figsize=(10, 6))\n",
    "sns.scatterplot(x=y_test, y=y_pred_xgb, alpha=0.7, color='orange', label='XGBoost Tahminleri')\n",
    "plt.plot([y.min(), y.max()], [y.min(), y.max()], color='red', linestyle='--', label='Mükemmel Tahmin')\n",
    "plt.xlabel('Gerçek Fiyat ($)')\n",
    "plt.ylabel('Tahmin Edilen Fiyat ($)')\n",
    "plt.title('XGBoost: Gerçek vs Tahmin Edilen Fiyatlar')\n",
    "plt.legend()\n",
    "plt.show()"
   ]
  },
  {
   "cell_type": "code",
   "execution_count": null,
   "metadata": {},
   "outputs": [],
   "source": [
    "plt.figure(figsize=(10, 6))\n",
    "sns.scatterplot(x=y_test, y=y_pred_lgb, alpha=0.7, color='blue', label='LightGBM Tahminleri')\n",
    "sns.scatterplot(x=y_test, y=y_pred_xgb, alpha=0.7, color='orange', label='XGBoost Tahminleri')\n",
    "plt.plot([y.min(), y.max()], [y.min(), y.max()], color='red', linestyle='--', label='Mükemmel Tahmin')\n",
    "plt.xlabel('Gerçek Fiyat ($)')\n",
    "plt.ylabel('Tahmin Edilen Fiyat ($)')\n",
    "plt.title('LightGBM vs XGBoost: Gerçek vs Tahmin Edilen Fiyatlar')\n",
    "plt.legend()\n",
    "plt.show()"
   ]
  },
  {
   "cell_type": "code",
   "execution_count": null,
   "metadata": {},
   "outputs": [],
   "source": [
    "\n",
    "y_train_pred_lgb = model_lgb.predict(X_train)\n",
    "train_r2_lgb = r2_score(y_train, y_train_pred_lgb)\n",
    "train_rmse_lgb = np.sqrt(mean_squared_error(y_train, y_train_pred_lgb))\n",
    "\n",
    "y_test_pred_lgb = model_lgb.predict(X_test)\n",
    "test_r2_lgb = r2_score(y_test, y_test_pred_lgb)\n",
    "test_rmse_lgb = np.sqrt(mean_squared_error(y_test, y_test_pred_lgb))\n",
    "\n",
    "print(\"LightGBM Eğitim R²:\", train_r2_lgb)\n",
    "print(\"LightGBM Test R²:\", test_r2_lgb)\n",
    "print(\"LightGBM Eğitim RMSE:\", train_rmse_lgb)\n",
    "print(\"LightGBM Test RMSE:\", test_rmse_lgb)"
   ]
  },
  {
   "cell_type": "code",
   "execution_count": null,
   "metadata": {},
   "outputs": [],
   "source": [
    "from sklearn.model_selection import cross_val_score\n",
    "\n",
    "\n",
    "cv_scores_lgb = cross_val_score(model_lgb, X_train, y_train, cv=5, scoring='r2')\n",
    "print(\"LightGBM Çapraz Doğrulama R² Skorları:\", cv_scores_lgb)\n",
    "print(\"LightGBM Ortalama Çapraz Doğrulama R²:\", cv_scores_lgb.mean())"
   ]
  },
  {
   "cell_type": "code",
   "execution_count": null,
   "metadata": {},
   "outputs": [],
   "source": []
  }
 ],
 "metadata": {
  "kernelspec": {
   "display_name": "Python 3",
   "language": "python",
   "name": "python3"
  },
  "language_info": {
   "codemirror_mode": {
    "name": "ipython",
    "version": 3
   },
   "file_extension": ".py",
   "mimetype": "text/x-python",
   "name": "python",
   "nbconvert_exporter": "python",
   "pygments_lexer": "ipython3",
   "version": "3.11.9"
  }
 },
 "nbformat": 4,
 "nbformat_minor": 2
}
